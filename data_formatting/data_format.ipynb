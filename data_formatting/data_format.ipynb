{
 "cells": [
  {
   "cell_type": "code",
   "execution_count": 32,
   "id": "6641030c",
   "metadata": {},
   "outputs": [],
   "source": [
    "import os\n",
    "import pandas\n",
    "from tqdm import tqdm\n",
    "\n",
    "def get_dir_tree(root_dir):\n",
    "    tree = {}\n",
    "    for dirpath, dirnames, filenames in os.walk(root_dir):\n",
    "        rel_path = os.path.relpath(dirpath, root_dir)\n",
    "        parent = tree\n",
    "        if rel_path != \".\":\n",
    "            for part in rel_path.split(os.sep):\n",
    "                parent = parent.setdefault(part, {})\n",
    "        parent['files'] = filenames\n",
    "    return tree\n",
    "\n",
    "def extract_mp4_files(tree, parent_path=\"\"):\n",
    "    mp4_list = []\n",
    "    # まず現在の階層のfilesをチェック\n",
    "    files = tree.get('files', [])\n",
    "    for f in files:\n",
    "        if f.lower().endswith('.mp4'):\n",
    "            mp4_list.append(os.path.join(parent_path, f) if parent_path else f)\n",
    "    # サブディレクトリも再帰的に探索\n",
    "    for key, value in tree.items():\n",
    "        if isinstance(value, dict) and key != 'files':\n",
    "            new_parent = os.path.join(parent_path, key) if parent_path else key\n",
    "            mp4_list.extend(extract_mp4_files(value, new_parent))\n",
    "    return mp4_list"
   ]
  },
  {
   "cell_type": "code",
   "execution_count": 46,
   "id": "4b25e66b",
   "metadata": {},
   "outputs": [
    {
     "name": "stderr",
     "output_type": "stream",
     "text": [
      "100%|██████████| 21/21 [00:00<00:00, 938.92it/s]"
     ]
    },
    {
     "name": "stdout",
     "output_type": "stream",
     "text": [
      "Total MP4 files found: 268\n"
     ]
    },
    {
     "name": "stderr",
     "output_type": "stream",
     "text": [
      "\n"
     ]
    }
   ],
   "source": [
    "# P01  P02  P03  P04  P06  P07  P09  P11  P12  P22  P23  P25  P26  P27  P28  P30  P33  P34  P35  P36  P37をp_listに格納\n",
    "p_list = [\"P01\", \"P02\", \"P03\", \"P04\", \"P06\", \"P07\", \"P09\", \"P11\", \"P12\",\n",
    "          \"P22\", \"P23\", \"P25\", \"P26\", \"P27\", \"P28\", \"P30\", \"P33\", \"P34\", \"P35\", \"P36\", \"P37\"]\n",
    "all_files = []\n",
    "for i in tqdm(p_list):\n",
    "    tree = get_dir_tree(f\"/mnt/vmlqnap02/dataset/EK100/video_ht256px/{i}\")\n",
    "    mp4_files = extract_mp4_files(tree)\n",
    "    mp4_files = [f.split('_')[1].split('.')[0] for f in mp4_files]\n",
    "    for j in range(len(mp4_files)):\n",
    "        mp4_files[j] = f\"{i}_{mp4_files[j]}\"\n",
    "    all_files.extend(mp4_files)\n",
    "\n",
    "print(f\"Total MP4 files found: {len(all_files)}\")"
   ]
  },
  {
   "cell_type": "code",
   "execution_count": 55,
   "id": "80508120",
   "metadata": {},
   "outputs": [
    {
     "name": "stdout",
     "output_type": "stream",
     "text": [
      "Train set size: 29964\n",
      "Test set size: 7491\n",
      "Filtered CSV files have been saved.\n",
      "Process completed successfully.\n"
     ]
    }
   ],
   "source": [
    "import pandas as pd\n",
    "# ./csvの中にあるEPIC_100_retrieval_train.csvを読み込む\n",
    "df = pd.read_csv(\"./csv/EPIC_100_retrieval_train.csv\")\n",
    "# video_idの列をall_filesにあるものだけに絞り込む\n",
    "df_filtered = df[df['video_id'].isin(all_files)]\n",
    "\n",
    "#df_filteredの80%の行をtrain, 20%の行をtestに分割\n",
    "train_size = int(len(df_filtered) * 0.8)\n",
    "df_train = df_filtered[:train_size]\n",
    "df_test = df_filtered[train_size:] \n",
    "\n",
    "# trainとtestをそれぞれcsvに保存\n",
    "df_train.to_csv(\"./csv/EPIC_100_retrieval_train_filtered.csv\", index=False)\n",
    "df_test.to_csv(\"./csv/EPIC_100_retrieval_test_filtered.csv\", index=False)\n",
    "\n",
    "# trainとtestの行数を表示\n",
    "print(f\"Train set size: {len(df_train)}\")\n",
    "print(f\"Test set size: {len(df_test)}\")\n",
    "print(\"Filtered CSV files have been saved.\")\n",
    "print(\"Process completed successfully.\")"
   ]
  },
  {
   "cell_type": "code",
   "execution_count": null,
   "id": "ca82af1b",
   "metadata": {},
   "outputs": [],
   "source": []
  }
 ],
 "metadata": {
  "kernelspec": {
   "display_name": ".venv310",
   "language": "python",
   "name": "python3"
  },
  "language_info": {
   "codemirror_mode": {
    "name": "ipython",
    "version": 3
   },
   "file_extension": ".py",
   "mimetype": "text/x-python",
   "name": "python",
   "nbconvert_exporter": "python",
   "pygments_lexer": "ipython3",
   "version": "3.10.17"
  }
 },
 "nbformat": 4,
 "nbformat_minor": 5
}
